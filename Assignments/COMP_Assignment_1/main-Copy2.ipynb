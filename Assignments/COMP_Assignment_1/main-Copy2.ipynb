{
 "cells": [
  {
   "cell_type": "markdown",
   "metadata": {},
   "source": [
    "# Part One: Classifiers"
   ]
  },
  {
   "cell_type": "code",
   "execution_count": 1,
   "metadata": {},
   "outputs": [],
   "source": [
    "import numpy as np\n",
    "import pandas as pd\n",
    "import matplotlib.pyplot as plt\n",
    "from sklearn import preprocessing\n",
    "\n",
    "\n",
    "from sklearn.datasets import make_classification\n",
    "from sklearn.preprocessing import StandardScaler\n",
    "from sklearn.model_selection import train_test_split\n",
    "from sklearn.model_selection import GridSearchCV\n",
    "from sklearn.metrics import accuracy_score\n",
    "\n",
    "from sklearn.neural_network import MLPClassifier\n",
    "from sklearn.linear_model import LogisticRegression\n",
    "from sklearn.tree import DecisionTreeClassifier\n",
    "from sklearn.ensemble import GradientBoostingClassifier\n",
    "from sklearn.ensemble import RandomForestClassifier\n",
    "from sklearn.neighbors import KNeighborsClassifier\n",
    "from sklearn.naive_bayes import GaussianNB\n"
   ]
  },
  {
   "cell_type": "code",
   "execution_count": 2,
   "metadata": {
    "pycharm": {
     "name": "#%%\n"
    }
   },
   "outputs": [
    {
     "name": "stdout",
     "output_type": "stream",
     "text": [
      "(10, 34)\n",
      "(10, 35)\n",
      "(10, 5)\n",
      "(10, 21)\n"
     ]
    }
   ],
   "source": [
    "# making a fake data set here.\n",
    "X, y = make_classification(n_features=20, n_redundant=0, n_informative=5, n_clusters_per_class=1)\n",
    "X += 4.0 * np.random.uniform(size=X.shape)\n",
    "\n",
    "# Load the datasets\n",
    "datasets = [np.asarray(pd.read_csv(\"php9xWOpn.csv\")), np.asarray(pd.read_csv(\"dataset_59_ionosphere.csv\")),np.asarray(pd.read_csv(\"php50jXam.csv\")), np.column_stack((X, y))]\n",
    "dataset_titles = [\"Steel Plate Fault\", \"Ionsphere\", \"Bank Notes\", \"Fake Data\"]\n",
    "\n",
    "\n",
    "for df in datasets:\n",
    "    df = df[:10]\n",
    "    print(df.shape)\n",
    "    \n",
    "    "
   ]
  },
  {
   "cell_type": "code",
   "execution_count": 3,
   "metadata": {},
   "outputs": [],
   "source": [
    "def run_classifier(clf, train_x, train_y):\n",
    "    results = []\n",
    "    for i in range(5):\n",
    "        #train the data with a 50:50 split\n",
    "        X_train, X_test, y_train, y_test = train_test_split(train_x, train_y, test_size=0.5, random_state=i)\n",
    "        \n",
    "        clf.fit(X_train, y_train.ravel())\n",
    "        pred = clf.predict(X_test)\n",
    "            \n",
    "        score = accuracy_score(y_test, pred)\n",
    "            \n",
    "        results.append(score)\n",
    "    return results"
   ]
  },
  {
   "cell_type": "code",
   "execution_count": 4,
   "metadata": {},
   "outputs": [],
   "source": [
    "def run_KNeighborsClassifier(train_x, train_y):\n",
    "    final_results = []\n",
    "    for val in [1, 2, 3, 4, 5]:\n",
    "        \n",
    "        clf = KNeighborsClassifier(n_neighbors=val)\n",
    "        final_results.append(run_classifier(clf, train_x, train_y))\n",
    "        \n",
    "    return final_results"
   ]
  },
  {
   "cell_type": "code",
   "execution_count": 5,
   "metadata": {},
   "outputs": [],
   "source": [
    "def run_GaussianNB(train_x, train_y):\n",
    "    final_results = []\n",
    "    for val in [1e-9,1e-5,1e-1]:\n",
    "        \n",
    "        clf = GaussianNB(var_smoothing=val)\n",
    "        final_results.append(run_classifier(clf, train_x, train_y))\n",
    "        \n",
    "    return final_results"
   ]
  },
  {
   "cell_type": "code",
   "execution_count": 6,
   "metadata": {},
   "outputs": [],
   "source": [
    "def run_LogisticRegression(train_x, train_y):\n",
    "    final_results = []\n",
    "    for val in [.1,.5,1.0,2.0, 5.0]:\n",
    "        \n",
    "        clf = LogisticRegression(C=val)\n",
    "        final_results.append(run_classifier(clf, train_x, train_y))\n",
    "        \n",
    "    return final_results"
   ]
  },
  {
   "cell_type": "code",
   "execution_count": 7,
   "metadata": {},
   "outputs": [],
   "source": [
    "def run_DecisionTreeClassifier(train_x, train_y):\n",
    "    final_results = []\n",
    "    for val in [1, 2, 3, 4, 5, 6, 7, 8, 9, 10]:\n",
    "        \n",
    "        clf = DecisionTreeClassifier(max_depth=val)\n",
    "        final_results.append(run_classifier(clf, train_x, train_y))\n",
    "        \n",
    "    return final_results"
   ]
  },
  {
   "cell_type": "code",
   "execution_count": 8,
   "metadata": {},
   "outputs": [],
   "source": [
    "def run_GradientBoostingClassifier(train_x, train_y):\n",
    "    final_results = []\n",
    "    for val in [1, 2, 3, 4, 5, 6, 7, 8, 9, 10]:\n",
    "        \n",
    "        clf = GradientBoostingClassifier(max_depth=val)\n",
    "        final_results.append(run_classifier(clf, train_x, train_y))\n",
    "        \n",
    "    return final_results"
   ]
  },
  {
   "cell_type": "code",
   "execution_count": 9,
   "metadata": {},
   "outputs": [],
   "source": [
    "def run_RandomForestClassifier(train_x, train_y):\n",
    "    final_results = []\n",
    "    for val in [1, 2, 3, 4, 5, 6, 7, 8, 9, 10]:\n",
    "        \n",
    "        clf = RandomForestClassifier(max_depth=val)\n",
    "        final_results.append(run_classifier(clf, train_x, train_y))\n",
    "        \n",
    "    return final_results"
   ]
  },
  {
   "cell_type": "code",
   "execution_count": 10,
   "metadata": {},
   "outputs": [],
   "source": [
    "def run_MLPClassifier(train_x, train_y):\n",
    "    final_results = []\n",
    "    for val in [1e-5, 1e-3,0.1, 10.0]:\n",
    "        \n",
    "        clf = MLPClassifier(alpha=val, max_iter=500)\n",
    "        final_results.append(run_classifier(clf, train_x, train_y))\n",
    "        \n",
    "    return final_results"
   ]
  },
  {
   "cell_type": "code",
   "execution_count": 12,
   "metadata": {},
   "outputs": [
    {
     "name": "stderr",
     "output_type": "stream",
     "text": [
      "/Users/leon/opt/anaconda3/lib/python3.8/site-packages/sklearn/utils/validation.py:63: DataConversionWarning: A column-vector y was passed when a 1d array was expected. Please change the shape of y to (n_samples, ), for example using ravel().\n",
      "  return f(*args, **kwargs)\n"
     ]
    },
    {
     "name": "stdout",
     "output_type": "stream",
     "text": [
      "Completed Data Set:  Steel Plate Fault\n"
     ]
    },
    {
     "name": "stderr",
     "output_type": "stream",
     "text": [
      "/Users/leon/opt/anaconda3/lib/python3.8/site-packages/sklearn/utils/validation.py:63: DataConversionWarning: A column-vector y was passed when a 1d array was expected. Please change the shape of y to (n_samples, ), for example using ravel().\n",
      "  return f(*args, **kwargs)\n"
     ]
    },
    {
     "name": "stdout",
     "output_type": "stream",
     "text": [
      "Completed Data Set:  Ionsphere\n"
     ]
    },
    {
     "name": "stderr",
     "output_type": "stream",
     "text": [
      "/Users/leon/opt/anaconda3/lib/python3.8/site-packages/sklearn/utils/validation.py:63: DataConversionWarning: A column-vector y was passed when a 1d array was expected. Please change the shape of y to (n_samples, ), for example using ravel().\n",
      "  return f(*args, **kwargs)\n"
     ]
    },
    {
     "name": "stdout",
     "output_type": "stream",
     "text": [
      "Completed Data Set:  Bank Notes\n"
     ]
    },
    {
     "name": "stderr",
     "output_type": "stream",
     "text": [
      "/Users/leon/opt/anaconda3/lib/python3.8/site-packages/sklearn/utils/validation.py:63: DataConversionWarning: A column-vector y was passed when a 1d array was expected. Please change the shape of y to (n_samples, ), for example using ravel().\n",
      "  return f(*args, **kwargs)\n"
     ]
    },
    {
     "name": "stdout",
     "output_type": "stream",
     "text": [
      "Completed Data Set:  Fake Data\n"
     ]
    },
    {
     "data": {
      "image/png": "[encoded data removed]",
      "text/plain": [
       "<Figure size 432x288 with 28 Axes>"
      ]
     },
     "metadata": {
      "needs_background": "light"
     },
     "output_type": "display_data"
    },
    {
     "data": {
      "text/plain": [
       "<Figure size 1944x648 with 0 Axes>"
      ]
     },
     "metadata": {},
     "output_type": "display_data"
    }
   ],
   "source": [
    "fig, axs = plt.subplots(4, 7)\n",
    "figure = plt.figure(figsize=(27, 9))\n",
    "\n",
    "\n",
    "for i, data in enumerate(datasets):\n",
    "    \n",
    "    i-1\n",
    "\n",
    "    train_x, train_y = np.split(data, [-1], axis=1)\n",
    "    \n",
    "    #Scale the data\n",
    "    ss = StandardScaler()\n",
    "    train_x = ss.fit_transform(train_x)\n",
    "    \n",
    "    #Lebel encode the class\n",
    "    le = preprocessing.LabelEncoder()\n",
    "    train_y = le.fit_transform(train_y)\n",
    "    \n",
    "    \n",
    "    axs[i, 0].boxplot(run_KNeighborsClassifier(train_x, train_y))\n",
    "    axs[i, 1].boxplot(run_GaussianNB(train_x, train_y))\n",
    "    axs[i, 2].boxplot(run_LogisticRegression(train_x, train_y))\n",
    "    axs[i, 3].boxplot(run_DecisionTreeClassifier(train_x, train_y))\n",
    "    axs[i, 4].boxplot(run_GradientBoostingClassifier(train_x, train_y))\n",
    "    axs[i, 5].boxplot(run_RandomForestClassifier(train_x, train_y))\n",
    "    axs[i, 6].boxplot(run_MLPClassifier(train_x, train_y))\n",
    "    \n",
    "    print(\"Completed Data Set: \", dataset_titles[i])\n",
    "\n",
    "      \n",
    "plt.tight_layout()\n",
    "plt.show()\n",
    "    "
   ]
  },
  {
   "cell_type": "markdown",
   "metadata": {},
   "source": [
    "# Summary Tables"
   ]
  },
  {
   "cell_type": "code",
   "execution_count": null,
   "metadata": {},
   "outputs": [],
   "source": []
  },
  {
   "cell_type": "markdown",
   "metadata": {},
   "source": [
    "# Part Two: Clustering"
   ]
  },
  {
   "cell_type": "code",
   "execution_count": null,
   "metadata": {},
   "outputs": [],
   "source": []
  }
 ],
 "metadata": {
  "kernelspec": {
   "display_name": "Python 3",
   "language": "python",
   "name": "python3"
  },
  "language_info": {
   "codemirror_mode": {
    "name": "ipython",
    "version": 3
   },
   "file_extension": ".py",
   "mimetype": "text/x-python",
   "name": "python",
   "nbconvert_exporter": "python",
   "pygments_lexer": "ipython3",
   "version": "3.8.8"
  }
 },
 "nbformat": 4,
 "nbformat_minor": 1
}
